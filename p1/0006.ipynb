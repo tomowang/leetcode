{
 "cells": [
  {
   "cell_type": "markdown",
   "metadata": {},
   "source": [
    "The string \"PAYPALISHIRING\" is written in a zigzag pattern on a given number of rows like this: (you may want to display this pattern in a fixed font for better legibility)\n",
    "\n",
    "```\n",
    "P   A   H   N\n",
    "A P L S I I G\n",
    "Y   I   R\n",
    "```\n",
    "\n",
    "And then read line by line: \"PAHNAPLSIIGYIR\"\n",
    "\n",
    "Write the code that will take a string and make this conversion given a number of rows:\n",
    "\n",
    "string convert(string s, int numRows);\n",
    "Example 1:\n",
    "\n",
    ">Input: s = \"PAYPALISHIRING\", numRows = 3\n",
    ">\n",
    ">Output: \"PAHNAPLSIIGYIR\"\n",
    "\n",
    "Example 2:\n",
    "\n",
    ">Input: s = \"PAYPALISHIRING\", numRows = 4\n",
    ">\n",
    ">Output: \"PINALSIGYAHRPI\"\n",
    "\n",
    "Explanation:\n",
    "\n",
    "```\n",
    "P     I    N\n",
    "A   L S  I G\n",
    "Y A   H R\n",
    "P     I\n",
    "```"
   ]
  },
  {
   "cell_type": "code",
   "execution_count": 1,
   "metadata": {},
   "outputs": [
    {
     "name": "stdout",
     "output_type": "stream",
     "text": [
      "PAHNAPLSIIGYIR\n",
      "PINALSIGYAHRPI\n"
     ]
    }
   ],
   "source": [
    "class Solution:\n",
    "    def convert(self, s, numRows):\n",
    "        \"\"\"\n",
    "        :type s: str\n",
    "        :type numRows: int\n",
    "        :rtype: str\n",
    "        \"\"\"\n",
    "        length = len(s)\n",
    "        if length < 2 or numRows == 1:\n",
    "            return s\n",
    "        result = [[] for i in range(numRows)]\n",
    "        n = 2 * numRows - 2\n",
    "        for i in range(0, length, n):\n",
    "            for j in range(n):\n",
    "                if i + j >= length:\n",
    "                    break\n",
    "                if j < numRows:\n",
    "                    result[j].append(s[i+j])\n",
    "                else:\n",
    "                    result[n-j].append(s[i+j])\n",
    "        ret = [c for line in result for c in line]\n",
    "        return ''.join(ret)\n",
    "\n",
    "print(Solution().convert(\"PAYPALISHIRING\", 3))\n",
    "print(Solution().convert(\"PAYPALISHIRING\", 4))"
   ]
  },
  {
   "cell_type": "code",
   "execution_count": null,
   "metadata": {},
   "outputs": [],
   "source": []
  }
 ],
 "metadata": {
  "kernelspec": {
   "display_name": "Python 3",
   "language": "python",
   "name": "python3"
  },
  "language_info": {
   "codemirror_mode": {
    "name": "ipython",
    "version": 3
   },
   "file_extension": ".py",
   "mimetype": "text/x-python",
   "name": "python",
   "nbconvert_exporter": "python",
   "pygments_lexer": "ipython3",
   "version": "3.6.5"
  }
 },
 "nbformat": 4,
 "nbformat_minor": 2
}
