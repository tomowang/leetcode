{
 "cells": [
  {
   "cell_type": "markdown",
   "metadata": {},
   "source": [
    "Given a string, find the length of the longest substring without repeating characters.\n",
    "\n",
    "Example 1:\n",
    "\n",
    "> Input: \"abcabcbb\"\n",
    "\n",
    "> Output: 3 \n",
    "\n",
    "> Explanation: The answer is \"abc\", with the length of 3. \n",
    "\n",
    "Example 2:\n",
    "\n",
    "> Input: \"bbbbb\"\n",
    "\n",
    "> Output: 1\n",
    "\n",
    "> Explanation: The answer is \"b\", with the length of 1.\n",
    "\n",
    "Example 3:\n",
    "\n",
    "> Input: \"pwwkew\"\n",
    "\n",
    "> Output: 3\n",
    "\n",
    "> Explanation: The answer is \"wke\", with the length of 3. \n",
    "             Note that the answer must be a substring, \"pwke\" is a subsequence and not a substring."
   ]
  },
  {
   "cell_type": "code",
   "execution_count": null,
   "metadata": {},
   "outputs": [],
   "source": [
    "class Solution:\n",
    "    def lengthOfLongestSubstring(self, s):\n",
    "        \"\"\"\n",
    "        :type s: str\n",
    "        :rtype: int\n",
    "        \"\"\"\n",
    "        length = len(s)\n",
    "        if length < 2:\n",
    "            return length\n",
    "        longest = 1\n",
    "        i = 0\n",
    "        while i < length - 1:\n",
    "            pool = {s[i]}\n",
    "            j = i + 1\n",
    "            while j <= length - 1 and s[j] not in pool:\n",
    "                pool.add(s[j])\n",
    "                j += 1\n",
    "            c = j - i\n",
    "            if c > longest:\n",
    "                longest = c\n",
    "            i += 1\n",
    "        return longest\n"
   ]
  },
  {
   "cell_type": "code",
   "execution_count": null,
   "metadata": {},
   "outputs": [],
   "source": []
  }
 ],
 "metadata": {
  "kernelspec": {
   "display_name": "Python 3",
   "language": "python",
   "name": "python3"
  },
  "language_info": {
   "codemirror_mode": {
    "name": "ipython",
    "version": 3
   },
   "file_extension": ".py",
   "mimetype": "text/x-python",
   "name": "python",
   "nbconvert_exporter": "python",
   "pygments_lexer": "ipython3",
   "version": "3.6.5"
  }
 },
 "nbformat": 4,
 "nbformat_minor": 2
}
