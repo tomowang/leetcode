{
 "cells": [
  {
   "cell_type": "markdown",
   "metadata": {},
   "source": [
    "Given a 32-bit signed integer, reverse digits of an integer.\n",
    "\n",
    "Example 1:\n",
    "\n",
    "> Input: 123\n",
    ">\n",
    "> Output: 321\n",
    "\n",
    "Example 2:\n",
    "\n",
    "> Input: -123\n",
    ">\n",
    "> Output: -321\n",
    "\n",
    "Example 3:\n",
    "\n",
    "> Input: 120\n",
    ">\n",
    "> Output: 21\n",
    "\n",
    "Note:\n",
    "Assume we are dealing with an environment which could only store integers within the 32-bit signed integer range: \\[−2^31,  2^31 − 1\\]. For the purpose of this problem, assume that your function returns 0 when the reversed integer overflows."
   ]
  },
  {
   "cell_type": "code",
   "execution_count": 1,
   "metadata": {},
   "outputs": [
    {
     "name": "stdout",
     "output_type": "stream",
     "text": [
      "-321\n",
      "321\n",
      "0\n"
     ]
    }
   ],
   "source": [
    "class Solution:\n",
    "    def reverse(self, x):\n",
    "        \"\"\"\n",
    "        :type x: int\n",
    "        :rtype: int\n",
    "        \"\"\"\n",
    "        sign = 1 if x > 0 else -1\n",
    "        res = 0\n",
    "        while x != 0:\n",
    "            if res > 214748364 or res < -214748364:\n",
    "                return 0\n",
    "            d, m = divmod(x, 10 * sign)\n",
    "            x = d * sign\n",
    "            res = res * 10 + m\n",
    "        return res\n",
    "\n",
    "print(Solution().reverse(-123))\n",
    "print(Solution().reverse(123))\n",
    "print(Solution().reverse(1234567899))"
   ]
  }
 ],
 "metadata": {
  "kernelspec": {
   "display_name": "Python 3",
   "language": "python",
   "name": "python3"
  },
  "language_info": {
   "codemirror_mode": {
    "name": "ipython",
    "version": 3
   },
   "file_extension": ".py",
   "mimetype": "text/x-python",
   "name": "python",
   "nbconvert_exporter": "python",
   "pygments_lexer": "ipython3",
   "version": "3.6.5"
  }
 },
 "nbformat": 4,
 "nbformat_minor": 2
}
