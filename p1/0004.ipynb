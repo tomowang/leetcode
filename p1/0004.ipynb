{
 "cells": [
  {
   "cell_type": "markdown",
   "metadata": {},
   "source": [
    "There are two sorted arrays nums1 and nums2 of size m and n respectively.\n",
    "\n",
    "Find the median of the two sorted arrays. The overall run time complexity should be O(log (m+n)).\n",
    "\n",
    "You may assume nums1 and nums2 cannot be both empty.\n",
    "\n",
    "Example 1:\n",
    "\n",
    "> nums1 = [1, 3]\n",
    ">\n",
    "> nums2 = [2]\n",
    "\n",
    "The median is `2.0`\n",
    "\n",
    "Example 2:\n",
    "\n",
    "> nums1 = [1, 2]\n",
    ">\n",
    "> nums2 = [3, 4]\n",
    "\n",
    "The median is `(2 + 3)/2 = 2.5`"
   ]
  },
  {
   "cell_type": "code",
   "execution_count": 1,
   "metadata": {},
   "outputs": [
    {
     "name": "stdout",
     "output_type": "stream",
     "text": [
      "2\n",
      "2.5\n"
     ]
    }
   ],
   "source": [
    "# refer to https://www.youtube.com/watch?v=LPFhl65R7ww\n",
    "class Solution:\n",
    "    def findMedianSortedArrays(self, nums1, nums2):\n",
    "        \"\"\"\n",
    "        :type nums1: List[int]\n",
    "        :type nums2: List[int]\n",
    "        :rtype: float\n",
    "        \"\"\"\n",
    "        x, y = len(nums1), len(nums2)\n",
    "        if x > y:\n",
    "            return self.findMedianSortedArrays(nums2, nums1)\n",
    "        inf = float('inf')\n",
    "        half = (x + y + 1) // 2\n",
    "        left1 = x // 2\n",
    "        left2 = half - left1\n",
    "\n",
    "        def findPartition(left1, left2):\n",
    "            leftXMax, rightXMin = -inf, inf\n",
    "            if left1 != 0:\n",
    "                leftXMax = nums1[left1 - 1]\n",
    "            if left1 < x:\n",
    "                rightXMin = nums1[left1]\n",
    "            leftYMax, rightYMin = -inf, inf\n",
    "            if left2 != 0:\n",
    "                leftYMax = nums2[left2 - 1]\n",
    "            if left2 < y:\n",
    "                rightYMin = nums2[left2]\n",
    "            return leftXMax, rightXMin, leftYMax, rightYMin\n",
    "\n",
    "        leftXMax, rightXMin, leftYMax, rightYMin = findPartition(left1, left2)\n",
    "        while leftXMax > rightYMin or leftYMax > rightXMin:\n",
    "            if leftXMax > rightYMin:\n",
    "                left1 -= 1\n",
    "                left2 += 1\n",
    "            else:\n",
    "                left1 += 1\n",
    "                left2 -= 1\n",
    "            leftXMax, rightXMin, leftYMax, rightYMin = findPartition(left1, left2)\n",
    "        if (x + y) % 2 == 1:\n",
    "            return max(leftXMax, leftYMax)\n",
    "        else:\n",
    "            return (max(leftXMax, leftYMax) + min(rightXMin, rightYMin)) / 2\n",
    "\n",
    "print(Solution().findMedianSortedArrays([1, 3], [2]))\n",
    "print(Solution().findMedianSortedArrays([1, 2], [3, 4]))"
   ]
  },
  {
   "cell_type": "code",
   "execution_count": null,
   "metadata": {},
   "outputs": [],
   "source": []
  }
 ],
 "metadata": {
  "kernelspec": {
   "display_name": "Python 3",
   "language": "python",
   "name": "python3"
  },
  "language_info": {
   "codemirror_mode": {
    "name": "ipython",
    "version": 3
   },
   "file_extension": ".py",
   "mimetype": "text/x-python",
   "name": "python",
   "nbconvert_exporter": "python",
   "pygments_lexer": "ipython3",
   "version": "3.6.5"
  }
 },
 "nbformat": 4,
 "nbformat_minor": 2
}
