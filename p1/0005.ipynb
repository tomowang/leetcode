{
 "cells": [
  {
   "cell_type": "markdown",
   "metadata": {},
   "source": [
    "Given a string s, find the longest palindromic substring in s. You may assume that the maximum length of s is 1000.\n",
    "\n",
    "Example 1:\n",
    "\n",
    "> Input: \"babad\"\n",
    ">\n",
    "> Output: \"bab\"\n",
    "\n",
    "Note: \"aba\" is also a valid answer.\n",
    "\n",
    "Example 2:\n",
    "\n",
    "> Input: \"cbbd\"\n",
    ">\n",
    "> Output: \"bb\""
   ]
  },
  {
   "cell_type": "code",
   "execution_count": 1,
   "metadata": {},
   "outputs": [
    {
     "name": "stdout",
     "output_type": "stream",
     "text": [
      "bab\n",
      "bb\n"
     ]
    }
   ],
   "source": [
    "class Solution:\n",
    "    def longestPalindrome(self, s):\n",
    "        \"\"\"\n",
    "        :type s: str\n",
    "        :rtype: str\n",
    "        \"\"\"\n",
    "        if len(s) < 2:\n",
    "            return s\n",
    "        start = 0\n",
    "        maxLength = 0\n",
    "        n = len(s)\n",
    "        for i in range(n):\n",
    "            if 2 * (n - i) - 1 <= maxLength:\n",
    "                break\n",
    "            left, right = i, i\n",
    "            while right < n - 1 and s[right+1] == s[i]:\n",
    "                right += 1\n",
    "            i = right + 1\n",
    "            while left > 0 and right < n - 1 and s[left-1] == s[right+1]:\n",
    "                left -= 1\n",
    "                right += 1\n",
    "            if (right - left + 1) > maxLength:\n",
    "                maxLength = right - left + 1\n",
    "                start = left\n",
    "        return s[start:start+maxLength]\n",
    "\n",
    "print(Solution().longestPalindrome('babad'))\n",
    "print(Solution().longestPalindrome('cbbd'))"
   ]
  },
  {
   "cell_type": "code",
   "execution_count": null,
   "metadata": {},
   "outputs": [],
   "source": []
  }
 ],
 "metadata": {
  "kernelspec": {
   "display_name": "Python 3",
   "language": "python",
   "name": "python3"
  },
  "language_info": {
   "codemirror_mode": {
    "name": "ipython",
    "version": 3
   },
   "file_extension": ".py",
   "mimetype": "text/x-python",
   "name": "python",
   "nbconvert_exporter": "python",
   "pygments_lexer": "ipython3",
   "version": "3.6.5"
  }
 },
 "nbformat": 4,
 "nbformat_minor": 2
}
