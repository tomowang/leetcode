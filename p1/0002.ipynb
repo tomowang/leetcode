{
 "cells": [
  {
   "cell_type": "markdown",
   "metadata": {},
   "source": [
    "You are given two non-empty linked lists representing two non-negative integers. The digits are stored in reverse order and each of their nodes contain a single digit. Add the two numbers and return it as a linked list.\n",
    "\n",
    "You may assume the two numbers do not contain any leading zero, except the number 0 itself.\n",
    "\n",
    "Example:\n",
    "\n",
    "> Input: (2 -> 4 -> 3) + (5 -> 6 -> 4)\n",
    "\n",
    "> Output: 7 -> 0 -> 8\n",
    "\n",
    "> Explanation: 342 + 465 = 807."
   ]
  },
  {
   "cell_type": "code",
   "execution_count": 1,
   "metadata": {},
   "outputs": [
    {
     "name": "stdout",
     "output_type": "stream",
     "text": [
      "7\n",
      "0\n",
      "8\n"
     ]
    }
   ],
   "source": [
    "# Definition for singly-linked list.\n",
    "class ListNode:\n",
    "    def __init__(self, x):\n",
    "        self.val = x\n",
    "        self.next = None\n",
    "\n",
    "class Solution:\n",
    "    def addTwoNumbers(self, l1, l2):\n",
    "        \"\"\"\n",
    "        :type l1: ListNode\n",
    "        :type l2: ListNode\n",
    "        :rtype: ListNode\n",
    "        \"\"\"\n",
    "        d, v = divmod(l1.val + l2.val, 10)\n",
    "        r = ListNode(v)\n",
    "        r.next = ListNode(d)\n",
    "        l = r.next\n",
    "        pl = r\n",
    "        while l1.next or l2.next:\n",
    "            v1, v2 = 0, 0\n",
    "            if l1.next:\n",
    "                l1 = l1.next\n",
    "                v1 = l1.val\n",
    "            if l2.next:\n",
    "                l2 = l2.next\n",
    "                v2 = l2.val\n",
    "            d, v = divmod(v1 + v2 + l.val, 10)\n",
    "            l.val = v\n",
    "            l.next = ListNode(d)\n",
    "            pl = l\n",
    "            l = l.next\n",
    "        if not l.next and l.val == 0:  # remove leading zero\n",
    "            pl.next = None\n",
    "        return r\n",
    "\n",
    "l1 = ListNode(2); l1.next = ListNode(4); l1.next.next = ListNode(3)\n",
    "l2 = ListNode(5); l2.next = ListNode(6); l2.next.next = ListNode(4)\n",
    "r = Solution().addTwoNumbers(l1, l2)\n",
    "print(r.val)\n",
    "l = r.next\n",
    "while l:\n",
    "    print(l.val)\n",
    "    l = l.next"
   ]
  },
  {
   "cell_type": "code",
   "execution_count": null,
   "metadata": {},
   "outputs": [],
   "source": []
  }
 ],
 "metadata": {
  "kernelspec": {
   "display_name": "Python 3",
   "language": "python",
   "name": "python3"
  },
  "language_info": {
   "codemirror_mode": {
    "name": "ipython",
    "version": 3
   },
   "file_extension": ".py",
   "mimetype": "text/x-python",
   "name": "python",
   "nbconvert_exporter": "python",
   "pygments_lexer": "ipython3",
   "version": "3.6.5"
  }
 },
 "nbformat": 4,
 "nbformat_minor": 2
}
